{
 "cells": [
  {
   "cell_type": "code",
   "execution_count": 1,
   "metadata": {
    "collapsed": false
   },
   "outputs": [
    {
     "name": "stderr",
     "output_type": "stream",
     "text": [
      "A newer version of GraphLab Create (v1.8.4) is available! Your current version is v1.8.3.\n",
      "\n",
      "You can use pip to upgrade the graphlab-create package. For more information see https://dato.com/products/create/upgrade.\n"
     ]
    }
   ],
   "source": [
    "import graphlab"
   ]
  },
  {
   "cell_type": "code",
   "execution_count": 2,
   "metadata": {
    "collapsed": false
   },
   "outputs": [
    {
     "name": "stderr",
     "output_type": "stream",
     "text": [
      "[INFO] GraphLab Create v1.8.3 started. Logging: /tmp/graphlab_server_1457646068.log\n"
     ]
    },
    {
     "data": {
      "text/html": [
       "<pre>Finished parsing file /Users/Guoyin/Documents/Course/Coursera/Machine learning Python/survey/CEE_Student_Culture_Survey_text_clean.csv</pre>"
      ],
      "text/plain": [
       "Finished parsing file /Users/Guoyin/Documents/Course/Coursera/Machine learning Python/survey/CEE_Student_Culture_Survey_text_clean.csv"
      ]
     },
     "metadata": {},
     "output_type": "display_data"
    },
    {
     "data": {
      "text/html": [
       "<pre>Parsing completed. Parsed 52 lines in 0.021098 secs.</pre>"
      ],
      "text/plain": [
       "Parsing completed. Parsed 52 lines in 0.021098 secs."
      ]
     },
     "metadata": {},
     "output_type": "display_data"
    },
    {
     "name": "stdout",
     "output_type": "stream",
     "text": [
      "------------------------------------------------------\n",
      "Inferred types from first line of file as \n",
      "column_type_hints=[str,str,str,str,str,str,str,str,str,str,str,str,str,str,str,str,str,str,str,str,str,str,str,str,str,str,str,str,str,str,str,str,str,str,str,str,str,str,str,str,str,str,str,str,str,str,str,str,str,str,str,str,str,str,str,str,str,str,str,str,str,str,str,str,str,str,str,str,str,str,str,str,str,str,str,str,str,str,str,str,str,str,str,str,str,str,str,str,str,str,str,str,str,str,str,str,str,str,str,str,str,str,str,str,str,str,str,str,str,str,str,str,str,str,str,str,str,str,str,str,str,str,str,str,str,str,str,str,str,str,str,str,str,str,str,str,str,str,str,str,str,str,str,str,str,str,str,str,str,str,str,str,str,str,str,str,str,str,str,str,str,str,str,str,str,str,str,str,str,str,str,str,str,str,str,str,str,str,str,str,str,str,str,str,str,str,str,str,str,str,str,str,str,str,str,str,str,str,str,str,str,str,str,str,str,str,str,str,str,str,str,str,str,str,str,str,str,str,str,str,str,str,str,str,str,str,str,str,str,str,str,str,str,str,str,str,str,str,str,str,str,str,str,str,str,str,str,str,str,str,str,str,str,str,str,str,str,str,str,str,str,str,str,str,str,str,str,str,str,str,str,str,str,str]\n",
      "If parsing fails due to incorrect types, you can correct\n",
      "the inferred type list above and pass it to read_csv in\n",
      "the column_type_hints argument\n",
      "------------------------------------------------------\n"
     ]
    }
   ],
   "source": [
    "result = graphlab.SFrame.read_csv('CEE_Student_Culture_Survey_text_clean.csv')"
   ]
  },
  {
   "cell_type": "code",
   "execution_count": 10,
   "metadata": {
    "collapsed": false
   },
   "outputs": [
    {
     "data": {
      "text/plain": [
       "dtype: str\n",
       "Rows: 52\n",
       "['What skills did you gain/improve during this TA experience?', 'Patience. Creating labs that are both educational and interesting for the students to conduct. Oral communication.', '', '', 'Confidence in front of a group of students, time management/efficiency', 'Answering questions clearly to students.', '', '', 'Teaching', 'I learned to explain complex concepts in an accessible way to first- and second-year students who were still early in their environmental engineering coursework.', 'Running all of the lab experiments on my own and using the required instruments.', 'Teaching', '', '', 'Lecturing, communicating scientific concepts to a beginner, public speaking', 'none', 'Teaching skills, communication skills with students', 'Improved public speaking through lecturing', 'Explanation, illustration, presentation, organization skills', '', '', 'Patience, oral communication, lecturing.', '', 'Interacting with students.', '', '', 'Presentation and communication skills.', 'I improved my understanding of the subject.', '', 'Better with planning, organizing, explaining, and conducting lab experiments.', 'I improved my abilities and comfort in interacting with students and dealing with situations such as grades, missed classes, late homework, etc. I also got more experience teaching/lecturing.', 'How to give a lecture.', 'learned the material better, became a better teacher', '', 'Very little in the way of actual teaching.', \"learning how to help others understand better, or finding an access route into someone's ability to comprehend a difficult topic; speaking clearly in a way that is engaging and instructive.\", '', 'None', '', '', '', '', '', 'Improved ability to communicate concepts creatively to a group of students with a range of different ways of processing information. Improved grasp on subject matter.', '', '', 'Teaching, grading.', '', 'I learned to be very specific and spell out what I expected from students.', '', 'patience with undergrads', 'Time management, lab practicum creating, lecturing and interacting with students.']"
      ]
     },
     "execution_count": 10,
     "metadata": {},
     "output_type": "execute_result"
    }
   ],
   "source": [
    "Q57 = result['Q57']\n",
    "Q57"
   ]
  },
  {
   "cell_type": "code",
   "execution_count": 12,
   "metadata": {
    "collapsed": false
   },
   "outputs": [],
   "source": [
    "result['Q57 word Count'] = graphlab.text_analytics.count_words(Q57)"
   ]
  },
  {
   "cell_type": "code",
   "execution_count": 13,
   "metadata": {
    "collapsed": false
   },
   "outputs": [
    {
     "data": {
      "text/plain": [
       "dtype: dict\n",
       "Rows: 52\n",
       "[{'what': 1, 'this': 1, 'skills': 1, 'gain/improve': 1, 'did': 1, 'experience?': 1, 'during': 1, 'you': 1, 'ta': 1}, {'and': 1, 'both': 1, 'educational': 1, 'creating': 1, 'for': 1, 'that': 1, 'students': 1, 'interesting': 1, 'patience.': 1, 'communication.': 1, 'labs': 1, 'to': 1, 'are': 1, 'conduct.': 1, 'the': 1, 'oral': 1}, {}, {}, {'a': 1, 'management/efficiency': 1, 'group': 1, 'students,': 1, 'of': 2, 'time': 1, 'confidence': 1, 'in': 1, 'front': 1}, {'to': 1, 'answering': 1, 'clearly': 1, 'questions': 1, 'students.': 1}, {}, {}, {'teaching': 1}, {'and': 1, 'accessible': 1, 'coursework.': 1, 'second-year': 1, 'an': 1, 'engineering': 1, 'in': 2, 'still': 1, 'their': 1, 'explain': 1, 'to': 2, 'complex': 1, 'way': 1, 'learned': 1, 'first-': 1, 'students': 1, 'who': 1, 'early': 1, 'environmental': 1, 'were': 1, 'i': 1, 'concepts': 1}, {'and': 1, 'on': 1, 'all': 1, 'own': 1, 'instruments.': 1, 'of': 1, 'required': 1, 'lab': 1, 'running': 1, 'experiments': 1, 'using': 1, 'the': 2, 'my': 1}, {'teaching': 1}, {}, {}, {'a': 1, 'scientific': 1, 'communicating': 1, 'lecturing,': 1, 'beginner,': 1, 'to': 1, 'concepts': 1, 'public': 1, 'speaking': 1}, {'none': 1}, {'skills,': 1, 'students': 1, 'communication': 1, 'skills': 1, 'teaching': 1, 'with': 1}, {'improved': 1, 'speaking': 1, 'through': 1, 'public': 1, 'lecturing': 1}, {'skills': 1, 'organization': 1, 'illustration,': 1, 'explanation,': 1, 'presentation,': 1}, {}, {}, {'lecturing.': 1, 'oral': 1, 'patience,': 1, 'communication,': 1}, {}, {'with': 1, 'interacting': 1, 'students.': 1}, {}, {}, {'and': 1, 'communication': 1, 'skills.': 1, 'presentation': 1}, {'improved': 1, 'i': 1, 'of': 1, 'subject.': 1, 'understanding': 1, 'the': 1, 'my': 1}, {}, {'and': 1, 'conducting': 1, 'organizing,': 1, 'explaining,': 1, 'experiments.': 1, 'lab': 1, 'better': 1, 'planning,': 1, 'with': 1}, {'and': 2, 'abilities': 1, 'homework,': 1, 'dealing': 1, 'in': 1, 'as': 1, 'grades,': 1, 'interacting': 1, 'situations': 1, 'comfort': 1, 'late': 1, 'also': 1, 'got': 1, 'more': 1, 'students': 1, 'such': 1, 'with': 2, 'missed': 1, 'teaching/lecturing.': 1, 'improved': 1, 'i': 2, 'etc.': 1, 'experience': 1, 'classes,': 1, 'my': 1}, {'a': 1, 'to': 1, 'lecture.': 1, 'how': 1, 'give': 1}, {'a': 1, 'better,': 1, 'material': 1, 'better': 1, 'became': 1, 'learned': 1, 'the': 1, 'teacher': 1}, {}, {'little': 1, 'actual': 1, 'very': 1, 'of': 1, 'teaching.': 1, 'way': 1, 'in': 1, 'the': 1}, {'and': 1, 'help': 1, 'better,': 1, 'is': 1, 'an': 1, 'engaging': 1, 'learning': 1, 'in': 1, 'clearly': 1, 'how': 1, 'comprehend': 1, 'access': 1, 'to': 2, 'way': 1, 'finding': 1, 'into': 1, 'speaking': 1, 'difficult': 1, 'topic;': 1, 'ability': 1, 'that': 1, 'understand': 1, 'others': 1, 'a': 2, 'instructive.': 1, 'route': 1, \"someone's\": 1, 'or': 1}, {}, {'none': 1}, {}, {}, {}, {}, {}, {'a': 2, 'on': 1, 'different': 1, 'group': 1, 'ability': 1, 'to': 2, 'ways': 1, 'information.': 1, 'processing': 1, 'communicate': 1, 'students': 1, 'range': 1, 'creatively': 1, 'concepts': 1, 'grasp': 1, 'improved': 2, 'of': 3, 'with': 1, 'matter.': 1, 'subject': 1}, {}, {}, {'teaching,': 1, 'grading.': 1}, {}, {'and': 1, 'be': 1, 'what': 1, 'from': 1, 'very': 1, 'students.': 1, 'i': 2, 'spell': 1, 'specific': 1, 'to': 1, 'expected': 1, 'learned': 1, 'out': 1}, {}, {'patience': 1, 'with': 1, 'undergrads': 1}, {'and': 1, 'creating,': 1, 'interacting': 1, 'lecturing': 1, 'students.': 1, 'management,': 1, 'lab': 1, 'time': 1, 'with': 1, 'practicum': 1}]"
      ]
     },
     "execution_count": 13,
     "metadata": {},
     "output_type": "execute_result"
    }
   ],
   "source": [
    "result['Q57 word Count']"
   ]
  },
  {
   "cell_type": "code",
   "execution_count": 15,
   "metadata": {
    "collapsed": false
   },
   "outputs": [],
   "source": [
    "Q57_word_count_table = result[['Q57 word Count']].stack('Q57 word Count', new_column_name = ['word','count'])"
   ]
  },
  {
   "cell_type": "code",
   "execution_count": 16,
   "metadata": {
    "collapsed": false
   },
   "outputs": [
    {
     "data": {
      "text/html": [
       "<div style=\"max-height:1000px;max-width:1500px;overflow:auto;\"><table frame=\"box\" rules=\"cols\">\n",
       "    <tr>\n",
       "        <th style=\"padding-left: 1em; padding-right: 1em; text-align: center\">word</th>\n",
       "        <th style=\"padding-left: 1em; padding-right: 1em; text-align: center\">count</th>\n",
       "    </tr>\n",
       "    <tr>\n",
       "        <td style=\"padding-left: 1em; padding-right: 1em; text-align: center; vertical-align: top\">experience?</td>\n",
       "        <td style=\"padding-left: 1em; padding-right: 1em; text-align: center; vertical-align: top\">1</td>\n",
       "    </tr>\n",
       "    <tr>\n",
       "        <td style=\"padding-left: 1em; padding-right: 1em; text-align: center; vertical-align: top\">ta</td>\n",
       "        <td style=\"padding-left: 1em; padding-right: 1em; text-align: center; vertical-align: top\">1</td>\n",
       "    </tr>\n",
       "    <tr>\n",
       "        <td style=\"padding-left: 1em; padding-right: 1em; text-align: center; vertical-align: top\">gain/improve</td>\n",
       "        <td style=\"padding-left: 1em; padding-right: 1em; text-align: center; vertical-align: top\">1</td>\n",
       "    </tr>\n",
       "    <tr>\n",
       "        <td style=\"padding-left: 1em; padding-right: 1em; text-align: center; vertical-align: top\">you</td>\n",
       "        <td style=\"padding-left: 1em; padding-right: 1em; text-align: center; vertical-align: top\">1</td>\n",
       "    </tr>\n",
       "    <tr>\n",
       "        <td style=\"padding-left: 1em; padding-right: 1em; text-align: center; vertical-align: top\">this</td>\n",
       "        <td style=\"padding-left: 1em; padding-right: 1em; text-align: center; vertical-align: top\">1</td>\n",
       "    </tr>\n",
       "    <tr>\n",
       "        <td style=\"padding-left: 1em; padding-right: 1em; text-align: center; vertical-align: top\">during</td>\n",
       "        <td style=\"padding-left: 1em; padding-right: 1em; text-align: center; vertical-align: top\">1</td>\n",
       "    </tr>\n",
       "    <tr>\n",
       "        <td style=\"padding-left: 1em; padding-right: 1em; text-align: center; vertical-align: top\">did</td>\n",
       "        <td style=\"padding-left: 1em; padding-right: 1em; text-align: center; vertical-align: top\">1</td>\n",
       "    </tr>\n",
       "    <tr>\n",
       "        <td style=\"padding-left: 1em; padding-right: 1em; text-align: center; vertical-align: top\">skills</td>\n",
       "        <td style=\"padding-left: 1em; padding-right: 1em; text-align: center; vertical-align: top\">1</td>\n",
       "    </tr>\n",
       "    <tr>\n",
       "        <td style=\"padding-left: 1em; padding-right: 1em; text-align: center; vertical-align: top\">what</td>\n",
       "        <td style=\"padding-left: 1em; padding-right: 1em; text-align: center; vertical-align: top\">1</td>\n",
       "    </tr>\n",
       "    <tr>\n",
       "        <td style=\"padding-left: 1em; padding-right: 1em; text-align: center; vertical-align: top\">oral</td>\n",
       "        <td style=\"padding-left: 1em; padding-right: 1em; text-align: center; vertical-align: top\">1</td>\n",
       "    </tr>\n",
       "</table>\n",
       "[275 rows x 2 columns]<br/>Note: Only the head of the SFrame is printed.<br/>You can use print_rows(num_rows=m, num_columns=n) to print more rows and columns.\n",
       "</div>"
      ],
      "text/plain": [
       "Columns:\n",
       "\tword\tstr\n",
       "\tcount\tint\n",
       "\n",
       "Rows: 275\n",
       "\n",
       "Data:\n",
       "+--------------+-------+\n",
       "|     word     | count |\n",
       "+--------------+-------+\n",
       "| experience?  |   1   |\n",
       "|      ta      |   1   |\n",
       "| gain/improve |   1   |\n",
       "|     you      |   1   |\n",
       "|     this     |   1   |\n",
       "|    during    |   1   |\n",
       "|     did      |   1   |\n",
       "|    skills    |   1   |\n",
       "|     what     |   1   |\n",
       "|     oral     |   1   |\n",
       "+--------------+-------+\n",
       "[275 rows x 2 columns]\n",
       "Note: Only the head of the SFrame is printed.\n",
       "You can use print_rows(num_rows=m, num_columns=n) to print more rows and columns."
      ]
     },
     "execution_count": 16,
     "metadata": {},
     "output_type": "execute_result"
    }
   ],
   "source": [
    "Q57_word_count_table"
   ]
  },
  {
   "cell_type": "code",
   "execution_count": 18,
   "metadata": {
    "collapsed": false
   },
   "outputs": [
    {
     "data": {
      "text/html": [
       "<div style=\"max-height:1000px;max-width:1500px;overflow:auto;\"><table frame=\"box\" rules=\"cols\">\n",
       "    <tr>\n",
       "        <th style=\"padding-left: 1em; padding-right: 1em; text-align: center\">word</th>\n",
       "        <th style=\"padding-left: 1em; padding-right: 1em; text-align: center\">count</th>\n",
       "    </tr>\n",
       "    <tr>\n",
       "        <td style=\"padding-left: 1em; padding-right: 1em; text-align: center; vertical-align: top\">of</td>\n",
       "        <td style=\"padding-left: 1em; padding-right: 1em; text-align: center; vertical-align: top\">3</td>\n",
       "    </tr>\n",
       "    <tr>\n",
       "        <td style=\"padding-left: 1em; padding-right: 1em; text-align: center; vertical-align: top\">to</td>\n",
       "        <td style=\"padding-left: 1em; padding-right: 1em; text-align: center; vertical-align: top\">2</td>\n",
       "    </tr>\n",
       "    <tr>\n",
       "        <td style=\"padding-left: 1em; padding-right: 1em; text-align: center; vertical-align: top\">improved</td>\n",
       "        <td style=\"padding-left: 1em; padding-right: 1em; text-align: center; vertical-align: top\">2</td>\n",
       "    </tr>\n",
       "    <tr>\n",
       "        <td style=\"padding-left: 1em; padding-right: 1em; text-align: center; vertical-align: top\">i</td>\n",
       "        <td style=\"padding-left: 1em; padding-right: 1em; text-align: center; vertical-align: top\">2</td>\n",
       "    </tr>\n",
       "    <tr>\n",
       "        <td style=\"padding-left: 1em; padding-right: 1em; text-align: center; vertical-align: top\">a</td>\n",
       "        <td style=\"padding-left: 1em; padding-right: 1em; text-align: center; vertical-align: top\">2</td>\n",
       "    </tr>\n",
       "    <tr>\n",
       "        <td style=\"padding-left: 1em; padding-right: 1em; text-align: center; vertical-align: top\">a</td>\n",
       "        <td style=\"padding-left: 1em; padding-right: 1em; text-align: center; vertical-align: top\">2</td>\n",
       "    </tr>\n",
       "    <tr>\n",
       "        <td style=\"padding-left: 1em; padding-right: 1em; text-align: center; vertical-align: top\">to</td>\n",
       "        <td style=\"padding-left: 1em; padding-right: 1em; text-align: center; vertical-align: top\">2</td>\n",
       "    </tr>\n",
       "    <tr>\n",
       "        <td style=\"padding-left: 1em; padding-right: 1em; text-align: center; vertical-align: top\">i</td>\n",
       "        <td style=\"padding-left: 1em; padding-right: 1em; text-align: center; vertical-align: top\">2</td>\n",
       "    </tr>\n",
       "    <tr>\n",
       "        <td style=\"padding-left: 1em; padding-right: 1em; text-align: center; vertical-align: top\">and</td>\n",
       "        <td style=\"padding-left: 1em; padding-right: 1em; text-align: center; vertical-align: top\">2</td>\n",
       "    </tr>\n",
       "    <tr>\n",
       "        <td style=\"padding-left: 1em; padding-right: 1em; text-align: center; vertical-align: top\">with</td>\n",
       "        <td style=\"padding-left: 1em; padding-right: 1em; text-align: center; vertical-align: top\">2</td>\n",
       "    </tr>\n",
       "</table>\n",
       "[275 rows x 2 columns]<br/>Note: Only the head of the SFrame is printed.<br/>You can use print_rows(num_rows=m, num_columns=n) to print more rows and columns.\n",
       "</div>"
      ],
      "text/plain": [
       "Columns:\n",
       "\tword\tstr\n",
       "\tcount\tint\n",
       "\n",
       "Rows: 275\n",
       "\n",
       "Data:\n",
       "+----------+-------+\n",
       "|   word   | count |\n",
       "+----------+-------+\n",
       "|    of    |   3   |\n",
       "|    to    |   2   |\n",
       "| improved |   2   |\n",
       "|    i     |   2   |\n",
       "|    a     |   2   |\n",
       "|    a     |   2   |\n",
       "|    to    |   2   |\n",
       "|    i     |   2   |\n",
       "|   and    |   2   |\n",
       "|   with   |   2   |\n",
       "+----------+-------+\n",
       "[275 rows x 2 columns]\n",
       "Note: Only the head of the SFrame is printed.\n",
       "You can use print_rows(num_rows=m, num_columns=n) to print more rows and columns."
      ]
     },
     "execution_count": 18,
     "metadata": {},
     "output_type": "execute_result"
    }
   ],
   "source": [
    "Q57_word_count_table.sort('count', ascending = False)"
   ]
  },
  {
   "cell_type": "code",
   "execution_count": 19,
   "metadata": {
    "collapsed": true
   },
   "outputs": [],
   "source": [
    "result['Q57 tfidf'] = graphlab.text_analytics.tf_idf(result['Q57 word Count'])"
   ]
  },
  {
   "cell_type": "code",
   "execution_count": 24,
   "metadata": {
    "collapsed": false
   },
   "outputs": [
    {
     "data": {
      "text/html": [
       "<div style=\"max-height:1000px;max-width:1500px;overflow:auto;\"><table frame=\"box\" rules=\"cols\">\n",
       "    <tr>\n",
       "        <th style=\"padding-left: 1em; padding-right: 1em; text-align: center\">word</th>\n",
       "        <th style=\"padding-left: 1em; padding-right: 1em; text-align: center\">tfidf</th>\n",
       "    </tr>\n",
       "    <tr>\n",
       "        <td style=\"padding-left: 1em; padding-right: 1em; text-align: center; vertical-align: top\">of</td>\n",
       "        <td style=\"padding-left: 1em; padding-right: 1em; text-align: center; vertical-align: top\">7.02541741844</td>\n",
       "    </tr>\n",
       "    <tr>\n",
       "        <td style=\"padding-left: 1em; padding-right: 1em; text-align: center; vertical-align: top\">improved</td>\n",
       "        <td style=\"padding-left: 1em; padding-right: 1em; text-align: center; vertical-align: top\">5.12989871492</td>\n",
       "    </tr>\n",
       "    <tr>\n",
       "        <td style=\"padding-left: 1em; padding-right: 1em; text-align: center; vertical-align: top\">i</td>\n",
       "        <td style=\"padding-left: 1em; padding-right: 1em; text-align: center; vertical-align: top\">5.12989871492</td>\n",
       "    </tr>\n",
       "    <tr>\n",
       "        <td style=\"padding-left: 1em; padding-right: 1em; text-align: center; vertical-align: top\">i</td>\n",
       "        <td style=\"padding-left: 1em; padding-right: 1em; text-align: center; vertical-align: top\">5.12989871492</td>\n",
       "    </tr>\n",
       "    <tr>\n",
       "        <td style=\"padding-left: 1em; padding-right: 1em; text-align: center; vertical-align: top\">of</td>\n",
       "        <td style=\"padding-left: 1em; padding-right: 1em; text-align: center; vertical-align: top\">4.68361161229</td>\n",
       "    </tr>\n",
       "    <tr>\n",
       "        <td style=\"padding-left: 1em; padding-right: 1em; text-align: center; vertical-align: top\">the</td>\n",
       "        <td style=\"padding-left: 1em; padding-right: 1em; text-align: center; vertical-align: top\">4.68361161229</td>\n",
       "    </tr>\n",
       "    <tr>\n",
       "        <td style=\"padding-left: 1em; padding-right: 1em; text-align: center; vertical-align: top\">in</td>\n",
       "        <td style=\"padding-left: 1em; padding-right: 1em; text-align: center; vertical-align: top\">4.68361161229</td>\n",
       "    </tr>\n",
       "    <tr>\n",
       "        <td style=\"padding-left: 1em; padding-right: 1em; text-align: center; vertical-align: top\">a</td>\n",
       "        <td style=\"padding-left: 1em; padding-right: 1em; text-align: center; vertical-align: top\">4.31896849871</td>\n",
       "    </tr>\n",
       "    <tr>\n",
       "        <td style=\"padding-left: 1em; padding-right: 1em; text-align: center; vertical-align: top\">a</td>\n",
       "        <td style=\"padding-left: 1em; padding-right: 1em; text-align: center; vertical-align: top\">4.31896849871</td>\n",
       "    </tr>\n",
       "    <tr>\n",
       "        <td style=\"padding-left: 1em; padding-right: 1em; text-align: center; vertical-align: top\">with</td>\n",
       "        <td style=\"padding-left: 1em; padding-right: 1em; text-align: center; vertical-align: top\">4.01066713905</td>\n",
       "    </tr>\n",
       "</table>\n",
       "[275 rows x 2 columns]<br/>Note: Only the head of the SFrame is printed.<br/>You can use print_rows(num_rows=m, num_columns=n) to print more rows and columns.\n",
       "</div>"
      ],
      "text/plain": [
       "Columns:\n",
       "\tword\tstr\n",
       "\ttfidf\tfloat\n",
       "\n",
       "Rows: 275\n",
       "\n",
       "Data:\n",
       "+----------+---------------+\n",
       "|   word   |     tfidf     |\n",
       "+----------+---------------+\n",
       "|    of    | 7.02541741844 |\n",
       "| improved | 5.12989871492 |\n",
       "|    i     | 5.12989871492 |\n",
       "|    i     | 5.12989871492 |\n",
       "|    of    | 4.68361161229 |\n",
       "|   the    | 4.68361161229 |\n",
       "|    in    | 4.68361161229 |\n",
       "|    a     | 4.31896849871 |\n",
       "|    a     | 4.31896849871 |\n",
       "|   with   | 4.01066713905 |\n",
       "+----------+---------------+\n",
       "[275 rows x 2 columns]\n",
       "Note: Only the head of the SFrame is printed.\n",
       "You can use print_rows(num_rows=m, num_columns=n) to print more rows and columns."
      ]
     },
     "execution_count": 24,
     "metadata": {},
     "output_type": "execute_result"
    }
   ],
   "source": [
    "result[['Q57 tfidf']].stack('Q57 tfidf', new_column_name=['word','tfidf']).sort('tfidf',ascending=False)"
   ]
  },
  {
   "cell_type": "code",
   "execution_count": 36,
   "metadata": {
    "collapsed": false
   },
   "outputs": [
    {
     "name": "stdout",
     "output_type": "stream",
     "text": [
      "+--------------+-------+\n",
      "|     word     | count |\n",
      "+--------------+-------+\n",
      "| experience?  |   1   |\n",
      "|      ta      |   1   |\n",
      "| gain/improve |   1   |\n",
      "|     you      |   1   |\n",
      "|     this     |   1   |\n",
      "|    during    |   1   |\n",
      "|     did      |   1   |\n",
      "|    skills    |   1   |\n",
      "|     what     |   1   |\n",
      "|     oral     |   1   |\n",
      "|   conduct.   |   1   |\n",
      "+--------------+-------+\n",
      "[275 rows x 2 columns]\n",
      "\n"
     ]
    }
   ],
   "source": [
    "Q57_word_count_table.print_rows(11,2)"
   ]
  },
  {
   "cell_type": "code",
   "execution_count": 32,
   "metadata": {
    "collapsed": false
   },
   "outputs": [
    {
     "data": {
      "text/plain": [
       "dtype: dict\n",
       "Rows: 52\n",
       "[{'what': 1, 'this': 1, 'skills': 1, 'gain/improve': 1, 'did': 1, 'experience?': 1, 'during': 1, 'you': 1, 'ta': 1}, {'and': 1, 'both': 1, 'educational': 1, 'creating': 1, 'for': 1, 'that': 1, 'students': 1, 'interesting': 1, 'patience.': 1, 'communication.': 1, 'labs': 1, 'to': 1, 'are': 1, 'conduct.': 1, 'the': 1, 'oral': 1}, {}, {}, {'a': 1, 'management/efficiency': 1, 'group': 1, 'students,': 1, 'of': 2, 'time': 1, 'confidence': 1, 'in': 1, 'front': 1}, {'to': 1, 'answering': 1, 'clearly': 1, 'questions': 1, 'students.': 1}, {}, {}, {'teaching': 1}, {'and': 1, 'accessible': 1, 'coursework.': 1, 'second-year': 1, 'an': 1, 'engineering': 1, 'in': 2, 'still': 1, 'their': 1, 'explain': 1, 'to': 2, 'complex': 1, 'way': 1, 'learned': 1, 'first-': 1, 'students': 1, 'who': 1, 'early': 1, 'environmental': 1, 'were': 1, 'i': 1, 'concepts': 1}, {'and': 1, 'on': 1, 'all': 1, 'own': 1, 'instruments.': 1, 'of': 1, 'required': 1, 'lab': 1, 'running': 1, 'experiments': 1, 'using': 1, 'the': 2, 'my': 1}, {'teaching': 1}, {}, {}, {'a': 1, 'scientific': 1, 'communicating': 1, 'lecturing,': 1, 'beginner,': 1, 'to': 1, 'concepts': 1, 'public': 1, 'speaking': 1}, {'none': 1}, {'skills,': 1, 'students': 1, 'communication': 1, 'skills': 1, 'teaching': 1, 'with': 1}, {'improved': 1, 'speaking': 1, 'through': 1, 'public': 1, 'lecturing': 1}, {'skills': 1, 'organization': 1, 'illustration,': 1, 'explanation,': 1, 'presentation,': 1}, {}, {}, {'lecturing.': 1, 'oral': 1, 'patience,': 1, 'communication,': 1}, {}, {'with': 1, 'interacting': 1, 'students.': 1}, {}, {}, {'and': 1, 'communication': 1, 'skills.': 1, 'presentation': 1}, {'improved': 1, 'i': 1, 'of': 1, 'subject.': 1, 'understanding': 1, 'the': 1, 'my': 1}, {}, {'and': 1, 'conducting': 1, 'organizing,': 1, 'explaining,': 1, 'experiments.': 1, 'lab': 1, 'better': 1, 'planning,': 1, 'with': 1}, {'and': 2, 'abilities': 1, 'homework,': 1, 'dealing': 1, 'in': 1, 'as': 1, 'grades,': 1, 'interacting': 1, 'situations': 1, 'comfort': 1, 'late': 1, 'also': 1, 'got': 1, 'more': 1, 'students': 1, 'such': 1, 'with': 2, 'missed': 1, 'teaching/lecturing.': 1, 'improved': 1, 'i': 2, 'etc.': 1, 'experience': 1, 'classes,': 1, 'my': 1}, {'a': 1, 'to': 1, 'lecture.': 1, 'how': 1, 'give': 1}, {'a': 1, 'better,': 1, 'material': 1, 'better': 1, 'became': 1, 'learned': 1, 'the': 1, 'teacher': 1}, {}, {'little': 1, 'actual': 1, 'very': 1, 'of': 1, 'teaching.': 1, 'way': 1, 'in': 1, 'the': 1}, {'and': 1, 'help': 1, 'better,': 1, 'is': 1, 'an': 1, 'engaging': 1, 'learning': 1, 'in': 1, 'clearly': 1, 'how': 1, 'comprehend': 1, 'access': 1, 'to': 2, 'way': 1, 'finding': 1, 'into': 1, 'speaking': 1, 'difficult': 1, 'topic;': 1, 'ability': 1, 'that': 1, 'understand': 1, 'others': 1, 'a': 2, 'instructive.': 1, 'route': 1, \"someone's\": 1, 'or': 1}, {}, {'none': 1}, {}, {}, {}, {}, {}, {'a': 2, 'on': 1, 'different': 1, 'group': 1, 'ability': 1, 'to': 2, 'ways': 1, 'information.': 1, 'processing': 1, 'communicate': 1, 'students': 1, 'range': 1, 'creatively': 1, 'concepts': 1, 'grasp': 1, 'improved': 2, 'of': 3, 'with': 1, 'matter.': 1, 'subject': 1}, {}, {}, {'teaching,': 1, 'grading.': 1}, {}, {'and': 1, 'be': 1, 'what': 1, 'from': 1, 'very': 1, 'students.': 1, 'i': 2, 'spell': 1, 'specific': 1, 'to': 1, 'expected': 1, 'learned': 1, 'out': 1}, {}, {'patience': 1, 'with': 1, 'undergrads': 1}, {'and': 1, 'creating,': 1, 'interacting': 1, 'lecturing': 1, 'students.': 1, 'management,': 1, 'lab': 1, 'time': 1, 'with': 1, 'practicum': 1}]"
      ]
     },
     "execution_count": 32,
     "metadata": {},
     "output_type": "execute_result"
    }
   ],
   "source": [
    " graphlab.text_analytics.count_words(Q57)"
   ]
  },
  {
   "cell_type": "code",
   "execution_count": 35,
   "metadata": {
    "collapsed": false
   },
   "outputs": [
    {
     "name": "stdout",
     "output_type": "stream",
     "text": [
      "{'all': 1, 'abilities': 1, 'help': 1, 'explaining,': 1, 'homework,': 1, 'better,': 2, 'both': 1, 'matter.': 1, 'experiments': 1, 'through': 1, 'questions': 1, 'using': 1, 'still': 1, 'explanation,': 1, 'group': 2, 'how': 2, 'interesting': 1, 'explain': 1, 'communication.': 1, 'communication,': 1, 'comprehend': 1, 'better': 2, 'to': 11, 'conduct.': 1, 'teaching': 3, 'presentation': 1, 'ta': 1, 'very': 2, 'etc.': 1, 'material': 1, 'early': 1, 'creatively': 1, 'front': 1, 'during': 1, 'organizing,': 1, 'teaching/lecturing.': 1, 'skills': 3, 'experiments.': 1, 'specific': 1, 'did': 1, 'out': 1, 'accessible': 1, 'lecturing': 2, 'dealing': 1, 'engaging': 1, 'are': 1, 'comfort': 1, 'creating': 1, 'what': 2, 'interacting': 3, 'for': 1, 'ways': 1, 'access': 1, 'presentation,': 1, 'got': 1, 'learned': 3, 'public': 2, 'be': 1, 'processing': 1, 'scientific': 1, 'were': 1, 'communicate': 1, 'little': 1, 'understanding': 1, 'labs': 1, 'grasp': 1, 'others': 1, 'teacher': 1, 'skills,': 1, 'conducting': 1, 'skills.': 1, 'improved': 5, 'illustration,': 1, 'of': 8, 'route': 1, 'experience': 1, 'range': 1, 'became': 1, 'teaching.': 1, 'teaching,': 1, 'situations': 1, \"someone's\": 1, 'or': 1, 'ability': 2, 'own': 1, 'communication': 2, 'into': 1, 'beginner,': 1, 'gain/improve': 1, 'patience': 1, 'learning': 1, 'grades,': 1, 'late': 1, 'confidence': 1, 'from': 1, 'their': 1, 'planning,': 1, 'way': 3, 'expected': 1, 'undergrads': 1, 'speaking': 3, 'more': 1, 'first-': 1, 'that': 2, 'lecturing.': 1, 'lecturing,': 1, 'environmental': 1, 'understand': 1, 'actual': 1, 'with': 8, 'none': 2, 'students,': 1, 'instructive.': 1, 'students.': 4, 'this': 1, 'as': 1, 'different': 1, 'concepts': 3, 'classes,': 1, 'my': 3, 'and': 10, 'creating,': 1, 'coursework.': 1, 'give': 1, 'second-year': 1, 'is': 1, 'an': 2, 'engineering': 1, 'in': 6, 'experience?': 1, 'lecture.': 1, 'clearly': 2, 'educational': 1, 'instruments.': 1, 'management,': 1, 'answering': 1, 'patience.': 1, 'patience,': 1, 'also': 1, 'complex': 1, 'finding': 1, 'information.': 1, 'you': 1, 'subject': 1, 'difficult': 1, 'topic;': 1, 'spell': 1, 'grading.': 1, 'communicating': 1, 'students': 5, 'who': 1, 'management/efficiency': 1, 'lab': 3, 'running': 1, 'such': 1, 'on': 2, 'practicum': 1, 'missed': 1, 'a': 8, 'i': 6, 'required': 1, 'subject.': 1, 'time': 2, 'organization': 1, 'the': 6, 'oral': 2}\n"
     ]
    }
   ],
   "source": [
    "Q57_word_count_result = {}\n",
    "for d in graphlab.text_analytics.count_words(Q57):\n",
    "    for p in d:\n",
    "        if p in Q57_word_count_result:\n",
    "            Q57_word_count_result[p] = Q57_word_count_result[p] + d[p]\n",
    "        else:\n",
    "            Q57_word_count_result[p] = d[p]\n",
    "print Q57_word_count_result    "
   ]
  },
  {
   "cell_type": "code",
   "execution_count": 37,
   "metadata": {
    "collapsed": false
   },
   "outputs": [
    {
     "name": "stdout",
     "output_type": "stream",
     "text": [
      "Object `Q57_word_count_result.stack` not found.\n"
     ]
    }
   ],
   "source": [
    "Q57_word_count_result.stack"
   ]
  },
  {
   "cell_type": "code",
   "execution_count": 38,
   "metadata": {
    "collapsed": true
   },
   "outputs": [],
   "source": [
    "?Q57_word_count_table"
   ]
  },
  {
   "cell_type": "code",
   "execution_count": 39,
   "metadata": {
    "collapsed": true
   },
   "outputs": [],
   "source": [
    "import operator\n",
    "sorted_x = sorted(Q57_word_count_result.items(), key=operator.itemgetter(1))"
   ]
  },
  {
   "cell_type": "code",
   "execution_count": 40,
   "metadata": {
    "collapsed": false
   },
   "outputs": [
    {
     "data": {
      "text/plain": [
       "[('all', 1),\n",
       " ('abilities', 1),\n",
       " ('help', 1),\n",
       " ('explaining,', 1),\n",
       " ('homework,', 1),\n",
       " ('both', 1),\n",
       " ('matter.', 1),\n",
       " ('experiments', 1),\n",
       " ('through', 1),\n",
       " ('questions', 1),\n",
       " ('using', 1),\n",
       " ('still', 1),\n",
       " ('explanation,', 1),\n",
       " ('interesting', 1),\n",
       " ('explain', 1),\n",
       " ('communication.', 1),\n",
       " ('communication,', 1),\n",
       " ('comprehend', 1),\n",
       " ('conduct.', 1),\n",
       " ('presentation', 1),\n",
       " ('ta', 1),\n",
       " ('etc.', 1),\n",
       " ('material', 1),\n",
       " ('early', 1),\n",
       " ('creatively', 1),\n",
       " ('front', 1),\n",
       " ('during', 1),\n",
       " ('organizing,', 1),\n",
       " ('teaching/lecturing.', 1),\n",
       " ('experiments.', 1),\n",
       " ('specific', 1),\n",
       " ('did', 1),\n",
       " ('out', 1),\n",
       " ('accessible', 1),\n",
       " ('dealing', 1),\n",
       " ('engaging', 1),\n",
       " ('are', 1),\n",
       " ('comfort', 1),\n",
       " ('creating', 1),\n",
       " ('for', 1),\n",
       " ('ways', 1),\n",
       " ('access', 1),\n",
       " ('presentation,', 1),\n",
       " ('got', 1),\n",
       " ('be', 1),\n",
       " ('processing', 1),\n",
       " ('scientific', 1),\n",
       " ('were', 1),\n",
       " ('communicate', 1),\n",
       " ('little', 1),\n",
       " ('understanding', 1),\n",
       " ('labs', 1),\n",
       " ('grasp', 1),\n",
       " ('others', 1),\n",
       " ('teacher', 1),\n",
       " ('skills,', 1),\n",
       " ('conducting', 1),\n",
       " ('skills.', 1),\n",
       " ('illustration,', 1),\n",
       " ('route', 1),\n",
       " ('experience', 1),\n",
       " ('range', 1),\n",
       " ('became', 1),\n",
       " ('teaching.', 1),\n",
       " ('teaching,', 1),\n",
       " ('situations', 1),\n",
       " (\"someone's\", 1),\n",
       " ('or', 1),\n",
       " ('own', 1),\n",
       " ('into', 1),\n",
       " ('beginner,', 1),\n",
       " ('gain/improve', 1),\n",
       " ('patience', 1),\n",
       " ('learning', 1),\n",
       " ('grades,', 1),\n",
       " ('late', 1),\n",
       " ('confidence', 1),\n",
       " ('from', 1),\n",
       " ('their', 1),\n",
       " ('planning,', 1),\n",
       " ('expected', 1),\n",
       " ('undergrads', 1),\n",
       " ('more', 1),\n",
       " ('first-', 1),\n",
       " ('lecturing.', 1),\n",
       " ('lecturing,', 1),\n",
       " ('environmental', 1),\n",
       " ('understand', 1),\n",
       " ('actual', 1),\n",
       " ('students,', 1),\n",
       " ('instructive.', 1),\n",
       " ('this', 1),\n",
       " ('as', 1),\n",
       " ('different', 1),\n",
       " ('classes,', 1),\n",
       " ('creating,', 1),\n",
       " ('coursework.', 1),\n",
       " ('give', 1),\n",
       " ('second-year', 1),\n",
       " ('is', 1),\n",
       " ('engineering', 1),\n",
       " ('experience?', 1),\n",
       " ('lecture.', 1),\n",
       " ('educational', 1),\n",
       " ('instruments.', 1),\n",
       " ('management,', 1),\n",
       " ('answering', 1),\n",
       " ('patience.', 1),\n",
       " ('patience,', 1),\n",
       " ('also', 1),\n",
       " ('complex', 1),\n",
       " ('finding', 1),\n",
       " ('information.', 1),\n",
       " ('you', 1),\n",
       " ('subject', 1),\n",
       " ('difficult', 1),\n",
       " ('topic;', 1),\n",
       " ('spell', 1),\n",
       " ('grading.', 1),\n",
       " ('communicating', 1),\n",
       " ('who', 1),\n",
       " ('management/efficiency', 1),\n",
       " ('running', 1),\n",
       " ('such', 1),\n",
       " ('practicum', 1),\n",
       " ('missed', 1),\n",
       " ('required', 1),\n",
       " ('subject.', 1),\n",
       " ('organization', 1),\n",
       " ('better,', 2),\n",
       " ('group', 2),\n",
       " ('how', 2),\n",
       " ('better', 2),\n",
       " ('very', 2),\n",
       " ('lecturing', 2),\n",
       " ('what', 2),\n",
       " ('public', 2),\n",
       " ('ability', 2),\n",
       " ('communication', 2),\n",
       " ('that', 2),\n",
       " ('none', 2),\n",
       " ('an', 2),\n",
       " ('clearly', 2),\n",
       " ('on', 2),\n",
       " ('time', 2),\n",
       " ('oral', 2),\n",
       " ('teaching', 3),\n",
       " ('skills', 3),\n",
       " ('interacting', 3),\n",
       " ('learned', 3),\n",
       " ('way', 3),\n",
       " ('speaking', 3),\n",
       " ('concepts', 3),\n",
       " ('my', 3),\n",
       " ('lab', 3),\n",
       " ('students.', 4),\n",
       " ('improved', 5),\n",
       " ('students', 5),\n",
       " ('in', 6),\n",
       " ('i', 6),\n",
       " ('the', 6),\n",
       " ('of', 8),\n",
       " ('with', 8),\n",
       " ('a', 8),\n",
       " ('and', 10),\n",
       " ('to', 11)]"
      ]
     },
     "execution_count": 40,
     "metadata": {},
     "output_type": "execute_result"
    }
   ],
   "source": [
    "sorted_x"
   ]
  },
  {
   "cell_type": "code",
   "execution_count": null,
   "metadata": {
    "collapsed": true
   },
   "outputs": [],
   "source": []
  }
 ],
 "metadata": {
  "kernelspec": {
   "display_name": "Python 2",
   "language": "python",
   "name": "python2"
  },
  "language_info": {
   "codemirror_mode": {
    "name": "ipython",
    "version": 2
   },
   "file_extension": ".py",
   "mimetype": "text/x-python",
   "name": "python",
   "nbconvert_exporter": "python",
   "pygments_lexer": "ipython2",
   "version": "2.7.10"
  }
 },
 "nbformat": 4,
 "nbformat_minor": 0
}
